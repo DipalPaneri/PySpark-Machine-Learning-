{
 "cells": [
  {
   "cell_type": "markdown",
   "id": "e39ba948-9159-459c-be5c-5f234bc5c700",
   "metadata": {},
   "source": [
    "###Linear Regression Example\n",
    "Let's walk through the steps of the official documentation example. \n",
    "Doing this will help your ability to read from the documentation, understand it, and then apply it to your own problems (the upcoming Consulting Project)."
   ]
  },
  {
   "cell_type": "code",
   "execution_count": 1,
   "id": "b8c76270-d4d5-4e9d-9e7a-68afd8e62049",
   "metadata": {},
   "outputs": [],
   "source": [
    "from pyspark.sql import SparkSession"
   ]
  },
  {
   "cell_type": "code",
   "execution_count": 2,
   "id": "4bab21ea-cc1c-4bed-b60a-7e86241de0aa",
   "metadata": {},
   "outputs": [],
   "source": [
    "spark = SparkSession.builder.appName(\"Lenear Regression\").getOrCreate()"
   ]
  },
  {
   "cell_type": "code",
   "execution_count": 3,
   "id": "f475e2c2-30a9-41c9-8df2-d16308658bd2",
   "metadata": {},
   "outputs": [],
   "source": [
    "from pyspark.ml.regression import LinearRegression"
   ]
  },
  {
   "cell_type": "code",
   "execution_count": 6,
   "id": "fb3b021d-f527-4663-b51a-31ea87cdd7ec",
   "metadata": {},
   "outputs": [],
   "source": [
    "training = spark.read.format(\"libsvm\").load(\"G:\\Downloads Ex\\Python-and-Spark-for-Big-Data-master\\Python-and-Spark-for-Big-Data-master\\Spark_for_Machine_Learning\\Linear_Regression\\sample_linear_regression_data.txt\")"
   ]
  },
  {
   "cell_type": "markdown",
   "id": "0db226f7-6b24-4fe1-893c-a5d0a82b239e",
   "metadata": {},
   "source": [
    "Interesting! We haven't seen libsvm formats before. In fact the aren't very popular when working with datasets in Python, but the Spark Documentation makes use of them a lot because of their formatting. Let's see what the training data looks like:"
   ]
  },
  {
   "cell_type": "code",
   "execution_count": 7,
   "id": "39b16eb6-f214-45ae-afcf-c731f40625db",
   "metadata": {},
   "outputs": [
    {
     "name": "stdout",
     "output_type": "stream",
     "text": [
      "+-------------------+--------------------+\n",
      "|              label|            features|\n",
      "+-------------------+--------------------+\n",
      "| -9.490009878824548|(10,[0,1,2,3,4,5,...|\n",
      "| 0.2577820163584905|(10,[0,1,2,3,4,5,...|\n",
      "| -4.438869807456516|(10,[0,1,2,3,4,5,...|\n",
      "|-19.782762789614537|(10,[0,1,2,3,4,5,...|\n",
      "| -7.966593841555266|(10,[0,1,2,3,4,5,...|\n",
      "| -7.896274316726144|(10,[0,1,2,3,4,5,...|\n",
      "| -8.464803554195287|(10,[0,1,2,3,4,5,...|\n",
      "| 2.1214592666251364|(10,[0,1,2,3,4,5,...|\n",
      "| 1.0720117616524107|(10,[0,1,2,3,4,5,...|\n",
      "|-13.772441561702871|(10,[0,1,2,3,4,5,...|\n",
      "| -5.082010756207233|(10,[0,1,2,3,4,5,...|\n",
      "|  7.887786536531237|(10,[0,1,2,3,4,5,...|\n",
      "| 14.323146365332388|(10,[0,1,2,3,4,5,...|\n",
      "|-20.057482615789212|(10,[0,1,2,3,4,5,...|\n",
      "|-0.8995693247765151|(10,[0,1,2,3,4,5,...|\n",
      "| -19.16829262296376|(10,[0,1,2,3,4,5,...|\n",
      "|  5.601801561245534|(10,[0,1,2,3,4,5,...|\n",
      "|-3.2256352187273354|(10,[0,1,2,3,4,5,...|\n",
      "| 1.5299675726687754|(10,[0,1,2,3,4,5,...|\n",
      "| -0.250102447941961|(10,[0,1,2,3,4,5,...|\n",
      "+-------------------+--------------------+\n",
      "only showing top 20 rows\n",
      "\n"
     ]
    }
   ],
   "source": [
    "training.show()"
   ]
  },
  {
   "cell_type": "markdown",
   "id": "cb1b7344-e7b3-4303-b4cb-d42c930e60c7",
   "metadata": {},
   "source": [
    "This is the format that Spark expects. Two columns with the names \"label\" and \"features\". \n",
    "\n",
    "The \"label\" column then needs to have the numerical label, either a regression numerical value, or a numerical value that matches to a classification grouping. Later on we will talk about unsupervised learning algorithms that by their nature do not use or require a label.\n",
    "\n",
    "The feature column has inside of it a vector of all the features that belong to that row. Usually what we end up doing is combining the various feature columns we have into a single 'features' column using the data transformations we've learned about."
   ]
  },
  {
   "cell_type": "code",
   "execution_count": 9,
   "id": "587f98a4-7d95-41dd-bb03-6461a5dee4d6",
   "metadata": {},
   "outputs": [],
   "source": [
    "# These are the default values for the featuresCol, labelCol, predictionCol\n",
    "lr = LinearRegression(featuresCol=\"features\", labelCol = 'label', predictionCol='Predictions')\n",
    "\n",
    "# You could also pass in additional parameters for regularization, do the reading \n",
    "# in ISLR to fully understand that, after that its just some simple parameter calls.\n",
    "# Check the documentation with Shift+Tab for more info!"
   ]
  },
  {
   "cell_type": "code",
   "execution_count": 10,
   "id": "027d3796-40a0-48c3-a6a4-e15abcf25ac4",
   "metadata": {},
   "outputs": [],
   "source": [
    "#fit the model \n",
    "lrModel = lr.fit(training)"
   ]
  },
  {
   "cell_type": "code",
   "execution_count": 14,
   "id": "b63a66ae-7932-4eaa-ab63-7235e5e79a13",
   "metadata": {},
   "outputs": [
    {
     "data": {
      "text/plain": [
       "DenseVector([0.0073, 0.8314, -0.8095, 2.4412, 0.5192, 1.1535, -0.2989, -0.5129, -0.6197, 0.6956])"
      ]
     },
     "execution_count": 14,
     "metadata": {},
     "output_type": "execute_result"
    }
   ],
   "source": [
    "lrModel.coefficients\n"
   ]
  },
  {
   "cell_type": "code",
   "execution_count": 15,
   "id": "8cacf3a0-dcc5-4b9c-93e8-7d7e6ee88e71",
   "metadata": {},
   "outputs": [
    {
     "data": {
      "text/plain": [
       "0.14228558260358093"
      ]
     },
     "execution_count": 15,
     "metadata": {},
     "output_type": "execute_result"
    }
   ],
   "source": [
    "lrModel.intercept"
   ]
  },
  {
   "cell_type": "code",
   "execution_count": 16,
   "id": "0ce8397a-5f01-484a-8f8e-61fef242006f",
   "metadata": {},
   "outputs": [],
   "source": [
    "training_summary = lrModel.summary"
   ]
  },
  {
   "cell_type": "code",
   "execution_count": 17,
   "id": "625fcf1a-eb57-4aab-b70f-c19e6ae1729e",
   "metadata": {},
   "outputs": [
    {
     "data": {
      "text/plain": [
       "0.027839179518600154"
      ]
     },
     "execution_count": 17,
     "metadata": {},
     "output_type": "execute_result"
    }
   ],
   "source": [
    "training_summary.r2"
   ]
  },
  {
   "cell_type": "markdown",
   "id": "2fb17533-54b2-417f-9116-9cadd54bde91",
   "metadata": {},
   "source": [
    "###Train/Test Splits\n",
    "But wait! We've committed a big mistake, we never separated our data set into a training and test set. Instead we trained on ALL of the data, something we generally want to avoid doing. Read ISLR and check out the theory lecture for more info on this, but remember we won't get a fair evaluation of our model by judging how well it does again on the same data it was trained on!\n",
    "\n",
    "Luckily Spark DataFrames have an almost too convinient method of splitting the data! Let's see it:"
   ]
  },
  {
   "cell_type": "code",
   "execution_count": 19,
   "id": "5e8db2aa-3fce-4e35-aa13-8e44cfe1e120",
   "metadata": {},
   "outputs": [],
   "source": [
    "all_data = spark.read.format(\"libsvm\").load(\"G:\\Downloads Ex\\Python-and-Spark-for-Big-Data-master\\Python-and-Spark-for-Big-Data-master\\Spark_for_Machine_Learning\\Linear_Regression\\sample_linear_regression_data.txt\")"
   ]
  },
  {
   "cell_type": "code",
   "execution_count": 20,
   "id": "897d9bd3-d371-4e03-8187-6927e800e8fb",
   "metadata": {},
   "outputs": [],
   "source": [
    "# Pass in the split between training/test as a list.\n",
    "# No correct, but generally 70/30 or 60/40 splits are used. \n",
    "# Depending on how much data you have and how unbalanced it is.\n",
    "\n",
    "train_data, test_data = all_data.randomSplit([0.7,0.3])"
   ]
  },
  {
   "cell_type": "code",
   "execution_count": 21,
   "id": "ae430c5d-6fe5-4d6f-a516-a85fe0ee6eb2",
   "metadata": {},
   "outputs": [
    {
     "name": "stdout",
     "output_type": "stream",
     "text": [
      "+-------+-------------------+\n",
      "|summary|              label|\n",
      "+-------+-------------------+\n",
      "|  count|                369|\n",
      "|   mean| 0.2782555719861968|\n",
      "| stddev| 10.243794333235705|\n",
      "|    min|-28.571478869743427|\n",
      "|    max|  27.78383192005107|\n",
      "+-------+-------------------+\n",
      "\n"
     ]
    }
   ],
   "source": [
    "train_data.describe().show()"
   ]
  },
  {
   "cell_type": "code",
   "execution_count": 22,
   "id": "8188a3e4-6eb7-434a-bc71-88de4a1ae04e",
   "metadata": {},
   "outputs": [
    {
     "name": "stdout",
     "output_type": "stream",
     "text": [
      "+-------+-------------------+\n",
      "|summary|              label|\n",
      "+-------+-------------------+\n",
      "|  count|                132|\n",
      "|   mean|0.19715904436957046|\n",
      "| stddev| 10.561534492778808|\n",
      "|    min|-22.837460416919342|\n",
      "|    max| 26.903524792043335|\n",
      "+-------+-------------------+\n",
      "\n"
     ]
    }
   ],
   "source": [
    "test_data.describe().show()"
   ]
  },
  {
   "cell_type": "code",
   "execution_count": 23,
   "id": "928b652e-1138-4814-a633-ecda805a5946",
   "metadata": {},
   "outputs": [],
   "source": [
    "correct_model = lr.fit(train_data)"
   ]
  },
  {
   "cell_type": "markdown",
   "id": "62bab748-2e96-4156-8e1d-afb2ee935250",
   "metadata": {},
   "source": [
    "Now we can directly get a .summary object using the evaluate method:"
   ]
  },
  {
   "cell_type": "code",
   "execution_count": 24,
   "id": "e4b09385-51a0-477c-8501-f1f7562fd3ef",
   "metadata": {},
   "outputs": [],
   "source": [
    "test_result = correct_model.evaluate(test_data)"
   ]
  },
  {
   "cell_type": "code",
   "execution_count": 27,
   "id": "75324892-4a19-4a7b-85d9-5b2d4183368d",
   "metadata": {},
   "outputs": [
    {
     "name": "stdout",
     "output_type": "stream",
     "text": [
      "+-------------------+\n",
      "|          residuals|\n",
      "+-------------------+\n",
      "|-21.507706705642306|\n",
      "|-22.153022536156918|\n",
      "|-21.008514612887016|\n",
      "|-21.596530216692734|\n",
      "| -18.92597929255892|\n",
      "| -18.17341677691308|\n",
      "|-19.467280060556806|\n",
      "| -17.42914233788011|\n",
      "|-17.262855045493527|\n",
      "| -16.57816865061576|\n",
      "|-16.754288046483243|\n",
      "|-18.785745813269962|\n",
      "|  -17.1833389112424|\n",
      "| -14.68571457410269|\n",
      "|-13.927374080276154|\n",
      "|-15.312348364009804|\n",
      "|-17.452744518775354|\n",
      "| -13.95602513601062|\n",
      "|-12.262970789451824|\n",
      "|-11.698612414739186|\n",
      "+-------------------+\n",
      "only showing top 20 rows\n",
      "\n"
     ]
    },
    {
     "data": {
      "text/plain": [
       "10.528334817979239"
      ]
     },
     "execution_count": 27,
     "metadata": {},
     "output_type": "execute_result"
    }
   ],
   "source": [
    "test_result.residuals.show()\n",
    "test_result.rootMeanSquaredError"
   ]
  },
  {
   "cell_type": "code",
   "execution_count": 28,
   "id": "b5df16eb-c312-41d8-9fd9-d5bd53349712",
   "metadata": {},
   "outputs": [],
   "source": [
    "unlabeled_data = test_data.select(\"features\")"
   ]
  },
  {
   "cell_type": "code",
   "execution_count": 29,
   "id": "70dfa0e7-7f15-4df9-8bd3-5f8615946394",
   "metadata": {},
   "outputs": [
    {
     "name": "stdout",
     "output_type": "stream",
     "text": [
      "+--------------------+\n",
      "|            features|\n",
      "+--------------------+\n",
      "|(10,[0,1,2,3,4,5,...|\n",
      "|(10,[0,1,2,3,4,5,...|\n",
      "|(10,[0,1,2,3,4,5,...|\n",
      "|(10,[0,1,2,3,4,5,...|\n",
      "|(10,[0,1,2,3,4,5,...|\n",
      "|(10,[0,1,2,3,4,5,...|\n",
      "|(10,[0,1,2,3,4,5,...|\n",
      "|(10,[0,1,2,3,4,5,...|\n",
      "|(10,[0,1,2,3,4,5,...|\n",
      "|(10,[0,1,2,3,4,5,...|\n",
      "|(10,[0,1,2,3,4,5,...|\n",
      "|(10,[0,1,2,3,4,5,...|\n",
      "|(10,[0,1,2,3,4,5,...|\n",
      "|(10,[0,1,2,3,4,5,...|\n",
      "|(10,[0,1,2,3,4,5,...|\n",
      "|(10,[0,1,2,3,4,5,...|\n",
      "|(10,[0,1,2,3,4,5,...|\n",
      "|(10,[0,1,2,3,4,5,...|\n",
      "|(10,[0,1,2,3,4,5,...|\n",
      "|(10,[0,1,2,3,4,5,...|\n",
      "+--------------------+\n",
      "only showing top 20 rows\n",
      "\n"
     ]
    }
   ],
   "source": [
    "unlabeled_data.show()"
   ]
  },
  {
   "cell_type": "code",
   "execution_count": 30,
   "id": "1e021df7-8fef-4767-a633-2efac64ca94f",
   "metadata": {},
   "outputs": [],
   "source": [
    "predictions = correct_model.transform(unlabeled_data)"
   ]
  },
  {
   "cell_type": "code",
   "execution_count": 32,
   "id": "6e3d80d5-1117-403e-8e2b-e191bcd840b6",
   "metadata": {},
   "outputs": [
    {
     "name": "stdout",
     "output_type": "stream",
     "text": [
      "+--------------------+--------------------+\n",
      "|            features|         Predictions|\n",
      "+--------------------+--------------------+\n",
      "|(10,[0,1,2,3,4,5,...| -1.3297537112770343|\n",
      "|(10,[0,1,2,3,4,5,...|  0.7206347719911121|\n",
      "|(10,[0,1,2,3,4,5,...|  1.2257518232724787|\n",
      "|(10,[0,1,2,3,4,5,...|  2.1941941864781835|\n",
      "|(10,[0,1,2,3,4,5,...| 0.08005681966033878|\n",
      "|(10,[0,1,2,3,4,5,...|  0.6792164200297371|\n",
      "|(10,[0,1,2,3,4,5,...|  2.0386054896172996|\n",
      "|(10,[0,1,2,3,4,5,...| 0.10242160520416016|\n",
      "|(10,[0,1,2,3,4,5,...| 0.19745541961751195|\n",
      "|(10,[0,1,2,3,4,5,...|-0.44832361359378986|\n",
      "|(10,[0,1,2,3,4,5,...| 0.03519121287815469|\n",
      "|(10,[0,1,2,3,4,5,...|   2.093538791958855|\n",
      "|(10,[0,1,2,3,4,5,...|  0.9219086357896706|\n",
      "|(10,[0,1,2,3,4,5,...|  -0.663156581276563|\n",
      "|(10,[0,1,2,3,4,5,...| -1.3836065091401344|\n",
      "|(10,[0,1,2,3,4,5,...|  0.5495901110786763|\n",
      "|(10,[0,1,2,3,4,5,...|  3.1237660096999136|\n",
      "|(10,[0,1,2,3,4,5,...| 0.08893724085185123|\n",
      "|(10,[0,1,2,3,4,5,...| -0.8903648169137073|\n",
      "|(10,[0,1,2,3,4,5,...| -1.0746145845120105|\n",
      "+--------------------+--------------------+\n",
      "only showing top 20 rows\n",
      "\n"
     ]
    }
   ],
   "source": [
    "predictions.show()"
   ]
  },
  {
   "cell_type": "code",
   "execution_count": null,
   "id": "7ef1484a-ed73-4684-b821-16c7f4070bb6",
   "metadata": {},
   "outputs": [],
   "source": []
  }
 ],
 "metadata": {
  "kernelspec": {
   "display_name": "Python 3 (ipykernel)",
   "language": "python",
   "name": "python3"
  },
  "language_info": {
   "codemirror_mode": {
    "name": "ipython",
    "version": 3
   },
   "file_extension": ".py",
   "mimetype": "text/x-python",
   "name": "python",
   "nbconvert_exporter": "python",
   "pygments_lexer": "ipython3",
   "version": "3.8.18"
  }
 },
 "nbformat": 4,
 "nbformat_minor": 5
}
