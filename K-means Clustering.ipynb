{
 "cells": [
  {
   "cell_type": "markdown",
   "id": "edd7b3ff-e0a7-4ebb-a3fb-b38d4fae4361",
   "metadata": {},
   "source": [
    "Clustering Documentation Example\n",
    "K-means\n",
    "k-means is one of the most commonly used clustering algorithms that clusters the data points into a predefined number of clusters. The MLlib implementation includes a parallelized variant of the k-means++ method called kmeans||.\n",
    "\n",
    "KMeans is implemented as an Estimator and generates a KMeansModel as the base model.\n",
    "\n",
    "Input Columns\n",
    "Param name\tType(s)\tDefault\tDescription\n",
    "featuresCol\tVector\t\"features\"\tFeature vector\n",
    "Output Columns\n",
    "Param name\tType(s)\tDefault\tDescription\n",
    "predictionCol\tInt\t\"prediction\"\tPredicted cluster center"
   ]
  },
  {
   "cell_type": "code",
   "execution_count": 1,
   "id": "f955383d-b517-4abf-9572-5e6165a79582",
   "metadata": {},
   "outputs": [],
   "source": [
    "from pyspark.sql import SparkSession"
   ]
  },
  {
   "cell_type": "code",
   "execution_count": 2,
   "id": "68671d0a-4fe8-4ae5-9f4a-37a8c8e7a78d",
   "metadata": {},
   "outputs": [],
   "source": [
    "spark = SparkSession.builder.appName(\"K-means Clustering\").getOrCreate()"
   ]
  },
  {
   "cell_type": "code",
   "execution_count": 3,
   "id": "fe316e8b-2ec8-4e0c-a8d5-dbcb4c988c71",
   "metadata": {},
   "outputs": [],
   "source": [
    "from pyspark.ml.clustering import KMeans"
   ]
  },
  {
   "cell_type": "code",
   "execution_count": 4,
   "id": "8406ef3a-2d7f-4d76-9ce8-0f493b57fdf9",
   "metadata": {},
   "outputs": [],
   "source": [
    "data = spark.read.format(\"libsvm\").load('sample_kmeans_data.txt')"
   ]
  },
  {
   "cell_type": "code",
   "execution_count": 5,
   "id": "494250e5-fbce-400b-8ffb-faf39f03ee3b",
   "metadata": {},
   "outputs": [
    {
     "name": "stdout",
     "output_type": "stream",
     "text": [
      "+-----+--------------------+\n",
      "|label|            features|\n",
      "+-----+--------------------+\n",
      "|  0.0|           (3,[],[])|\n",
      "|  1.0|(3,[0,1,2],[0.1,0...|\n",
      "|  2.0|(3,[0,1,2],[0.2,0...|\n",
      "|  3.0|(3,[0,1,2],[9.0,9...|\n",
      "|  4.0|(3,[0,1,2],[9.1,9...|\n",
      "|  5.0|(3,[0,1,2],[9.2,9...|\n",
      "+-----+--------------------+\n",
      "\n"
     ]
    }
   ],
   "source": [
    "data.show()"
   ]
  },
  {
   "cell_type": "code",
   "execution_count": 6,
   "id": "daea00f2-f0d5-4e3e-a7a0-1ceeaefa96ae",
   "metadata": {},
   "outputs": [],
   "source": [
    "#Now for K-means Clustering, Only features columns is essential as its an Unsupervised Learning Algorithm\n",
    "final_data = data.select('features')"
   ]
  },
  {
   "cell_type": "code",
   "execution_count": 7,
   "id": "b119a4bc-38af-47b1-87f6-1d6a3122f26b",
   "metadata": {},
   "outputs": [],
   "source": [
    "# Trains a k-means model.\n",
    "kmeans = KMeans().setK(2).setSeed(1)\n",
    "model = kmeans.fit(data)"
   ]
  },
  {
   "cell_type": "code",
   "execution_count": 8,
   "id": "da830f9b-0aba-4097-90f2-125274354554",
   "metadata": {},
   "outputs": [],
   "source": [
    "from pyspark.ml.evaluation import ClusteringEvaluator"
   ]
  },
  {
   "cell_type": "code",
   "execution_count": 10,
   "id": "b2d3f1ca-3357-436e-aa3f-a1e3bfb18e0c",
   "metadata": {},
   "outputs": [],
   "source": [
    "# Evaluate clustering by computing Within Set Sum of Squared Errors.\n",
    "#this error is important to keep as Pyspark API has changed and doesnt recognise computeCsot function. \n",
    "#wssse = model.computeCost(data)\n",
    "#print(wssse)"
   ]
  },
  {
   "cell_type": "code",
   "execution_count": 11,
   "id": "08739768-750c-49fc-b974-27c0465671b0",
   "metadata": {},
   "outputs": [],
   "source": [
    "# Make predictions\n",
    "predictions = model.transform(final_data)\n",
    "\n",
    "# Evaluate clustering by computing  score\n",
    "evaluator = ClusteringEvaluator()\n",
    "\n",
    "score = evaluator.evaluate(predictions)"
   ]
  },
  {
   "cell_type": "code",
   "execution_count": 12,
   "id": "6ddbbfec-bcc3-4249-bb38-edfab25018c2",
   "metadata": {},
   "outputs": [],
   "source": [
    "centers = model.clusterCenters()"
   ]
  },
  {
   "cell_type": "code",
   "execution_count": 13,
   "id": "4efe50c8-7023-4bc6-bbc3-3bc9951358e9",
   "metadata": {},
   "outputs": [
    {
     "data": {
      "text/plain": [
       "[array([9.1, 9.1, 9.1]), array([0.1, 0.1, 0.1])]"
      ]
     },
     "execution_count": 13,
     "metadata": {},
     "output_type": "execute_result"
    }
   ],
   "source": [
    "centers"
   ]
  },
  {
   "cell_type": "code",
   "execution_count": 14,
   "id": "92f4d533-5fa1-4943-8cac-a43702a70e1c",
   "metadata": {},
   "outputs": [],
   "source": [
    "results = model.transform(final_data)"
   ]
  },
  {
   "cell_type": "code",
   "execution_count": 15,
   "id": "eb84d1e3-88c7-4329-a31b-0978adb74d5f",
   "metadata": {},
   "outputs": [
    {
     "name": "stdout",
     "output_type": "stream",
     "text": [
      "+--------------------+----------+\n",
      "|            features|prediction|\n",
      "+--------------------+----------+\n",
      "|           (3,[],[])|         1|\n",
      "|(3,[0,1,2],[0.1,0...|         1|\n",
      "|(3,[0,1,2],[0.2,0...|         1|\n",
      "|(3,[0,1,2],[9.0,9...|         0|\n",
      "|(3,[0,1,2],[9.1,9...|         0|\n",
      "|(3,[0,1,2],[9.2,9...|         0|\n",
      "+--------------------+----------+\n",
      "\n"
     ]
    }
   ],
   "source": [
    "results.show()"
   ]
  },
  {
   "cell_type": "code",
   "execution_count": null,
   "id": "7927659c-265d-4ff4-bafd-a20f7b0f67dd",
   "metadata": {},
   "outputs": [],
   "source": []
  },
  {
   "cell_type": "code",
   "execution_count": null,
   "id": "abc81ffb-7b3a-4003-86de-8126412c30f4",
   "metadata": {},
   "outputs": [],
   "source": []
  },
  {
   "cell_type": "code",
   "execution_count": null,
   "id": "0c2b1b11-95e2-4528-9899-0212b5ffed94",
   "metadata": {},
   "outputs": [],
   "source": []
  },
  {
   "cell_type": "code",
   "execution_count": null,
   "id": "907f03a5-9326-4b7a-b00b-60efd6987ae8",
   "metadata": {},
   "outputs": [],
   "source": []
  },
  {
   "cell_type": "code",
   "execution_count": null,
   "id": "ef3358dc-42cb-4444-a27d-d7a48b07ba3d",
   "metadata": {},
   "outputs": [],
   "source": []
  },
  {
   "cell_type": "code",
   "execution_count": null,
   "id": "fcec61e2-f7a6-4053-a4d6-bfc5023fb0e8",
   "metadata": {},
   "outputs": [],
   "source": []
  },
  {
   "cell_type": "code",
   "execution_count": null,
   "id": "129d7718-b8c3-4e7a-9195-b9b40842a701",
   "metadata": {},
   "outputs": [],
   "source": []
  },
  {
   "cell_type": "code",
   "execution_count": null,
   "id": "2cda32ee-65ea-4d87-b4e6-d0a66baeb015",
   "metadata": {},
   "outputs": [],
   "source": []
  },
  {
   "cell_type": "code",
   "execution_count": null,
   "id": "668ac617-692e-4ea2-b0e6-956b8feda614",
   "metadata": {},
   "outputs": [],
   "source": []
  },
  {
   "cell_type": "code",
   "execution_count": null,
   "id": "7f2c0083-5374-4ad9-9705-36aeefa8f70f",
   "metadata": {},
   "outputs": [],
   "source": []
  },
  {
   "cell_type": "code",
   "execution_count": null,
   "id": "26722633-7390-4ba0-bf7b-bd5be906c019",
   "metadata": {},
   "outputs": [],
   "source": []
  },
  {
   "cell_type": "code",
   "execution_count": null,
   "id": "9455f60b-1a7d-4707-b495-f910ca61c4fa",
   "metadata": {},
   "outputs": [],
   "source": []
  },
  {
   "cell_type": "code",
   "execution_count": null,
   "id": "baad1d6b-38ac-41f4-87bb-c756be3f9034",
   "metadata": {},
   "outputs": [],
   "source": []
  },
  {
   "cell_type": "code",
   "execution_count": null,
   "id": "9fbf2ba6-0696-4662-9da4-7c9fb4c0714d",
   "metadata": {},
   "outputs": [],
   "source": []
  },
  {
   "cell_type": "code",
   "execution_count": null,
   "id": "faa22c4d-05ef-4c8c-9cc9-5e7bb9fa7da7",
   "metadata": {},
   "outputs": [],
   "source": []
  },
  {
   "cell_type": "code",
   "execution_count": null,
   "id": "ccda848f-6c40-4dd5-a140-3d6bab81d821",
   "metadata": {},
   "outputs": [],
   "source": []
  },
  {
   "cell_type": "code",
   "execution_count": null,
   "id": "94bdb290-d1cc-4bc9-8e8e-b19134b8ded6",
   "metadata": {},
   "outputs": [],
   "source": []
  },
  {
   "cell_type": "code",
   "execution_count": null,
   "id": "28738f48-0798-4ad1-9d2c-2a1b50aeeb5d",
   "metadata": {},
   "outputs": [],
   "source": []
  },
  {
   "cell_type": "code",
   "execution_count": null,
   "id": "98538158-39c2-4d61-b1ab-ecc1798180e1",
   "metadata": {},
   "outputs": [],
   "source": []
  },
  {
   "cell_type": "code",
   "execution_count": null,
   "id": "71377963-fd6f-4c43-892f-80f1f7b12ecf",
   "metadata": {},
   "outputs": [],
   "source": []
  },
  {
   "cell_type": "code",
   "execution_count": null,
   "id": "8983cab7-e44e-4a50-bfab-3878cd756d57",
   "metadata": {},
   "outputs": [],
   "source": []
  },
  {
   "cell_type": "code",
   "execution_count": null,
   "id": "0880fab9-1515-45b8-9df0-fcfcd925f946",
   "metadata": {},
   "outputs": [],
   "source": []
  },
  {
   "cell_type": "code",
   "execution_count": null,
   "id": "5cba5dc8-b289-4d64-a75f-05d2bec8aaa6",
   "metadata": {},
   "outputs": [],
   "source": []
  },
  {
   "cell_type": "code",
   "execution_count": null,
   "id": "8ea6b356-1698-42e4-aad3-db9f5af4c876",
   "metadata": {},
   "outputs": [],
   "source": []
  },
  {
   "cell_type": "code",
   "execution_count": null,
   "id": "09c63a43-b795-4f8f-8355-b07770e830ee",
   "metadata": {},
   "outputs": [],
   "source": []
  },
  {
   "cell_type": "code",
   "execution_count": null,
   "id": "dc5e275f-74c2-4c31-8b43-48cf6f318dc5",
   "metadata": {},
   "outputs": [],
   "source": []
  },
  {
   "cell_type": "code",
   "execution_count": null,
   "id": "ae2c26ee-a3e0-41a1-9b5b-19cf8b7fb860",
   "metadata": {},
   "outputs": [],
   "source": []
  }
 ],
 "metadata": {
  "kernelspec": {
   "display_name": "Python 3 (ipykernel)",
   "language": "python",
   "name": "python3"
  },
  "language_info": {
   "codemirror_mode": {
    "name": "ipython",
    "version": 3
   },
   "file_extension": ".py",
   "mimetype": "text/x-python",
   "name": "python",
   "nbconvert_exporter": "python",
   "pygments_lexer": "ipython3",
   "version": "3.8.18"
  }
 },
 "nbformat": 4,
 "nbformat_minor": 5
}
