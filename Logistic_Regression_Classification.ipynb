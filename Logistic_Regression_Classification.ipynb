{
 "cells": [
  {
   "cell_type": "code",
   "execution_count": 1,
   "id": "0350576d-10dd-4991-871d-3723ea6493f6",
   "metadata": {},
   "outputs": [],
   "source": [
    "from pyspark.sql import SparkSession"
   ]
  },
  {
   "cell_type": "code",
   "execution_count": 2,
   "id": "b032dee2-5bed-48f9-b971-9901a497ed70",
   "metadata": {},
   "outputs": [],
   "source": [
    "spark = SparkSession.builder.appName(\"Logistic Regression Classification\").getOrCreate()"
   ]
  },
  {
   "cell_type": "code",
   "execution_count": 3,
   "id": "d332a830-fd9a-4817-81d8-1110f37b3bf6",
   "metadata": {},
   "outputs": [],
   "source": [
    "from pyspark.ml.classification import LogisticRegression"
   ]
  },
  {
   "cell_type": "code",
   "execution_count": 4,
   "id": "d539ccb8-1c86-4b0a-bc67-745eaf420705",
   "metadata": {},
   "outputs": [],
   "source": [
    "my_data =spark.read.format('libsvm').load(\"G:\\Downloads Ex\\Python-and-Spark-for-Big-Data-master\\Python-and-Spark-for-Big-Data-master\\Spark_for_Machine_Learning\\Logistic_Regression\\sample_libsvm_data.txt\")"
   ]
  },
  {
   "cell_type": "code",
   "execution_count": 5,
   "id": "a32c52ea-2461-4076-8a3a-fe084bbf9af9",
   "metadata": {},
   "outputs": [],
   "source": [
    "lr = LogisticRegression()"
   ]
  },
  {
   "cell_type": "code",
   "execution_count": 6,
   "id": "e2741f68-d714-49a2-99c5-79bbcfb76c65",
   "metadata": {},
   "outputs": [],
   "source": [
    "lr_model = lr.fit(my_data)"
   ]
  },
  {
   "cell_type": "code",
   "execution_count": 7,
   "id": "da298de8-c607-46d9-a266-214af7052e91",
   "metadata": {},
   "outputs": [],
   "source": [
    "log_summery = lr_model.summary"
   ]
  },
  {
   "cell_type": "code",
   "execution_count": 9,
   "id": "7ebd073f-e0d5-4bf3-b1c1-f2d75a9ecc02",
   "metadata": {},
   "outputs": [
    {
     "name": "stdout",
     "output_type": "stream",
     "text": [
      "root\n",
      " |-- label: double (nullable = true)\n",
      " |-- features: vector (nullable = true)\n",
      " |-- rawPrediction: vector (nullable = true)\n",
      " |-- probability: vector (nullable = true)\n",
      " |-- prediction: double (nullable = false)\n",
      "\n"
     ]
    }
   ],
   "source": [
    "log_summery.predictions.printSchema()"
   ]
  },
  {
   "cell_type": "code",
   "execution_count": 10,
   "id": "091c23e1-3557-4cac-9a67-253fab1996c7",
   "metadata": {},
   "outputs": [
    {
     "name": "stdout",
     "output_type": "stream",
     "text": [
      "+-----+--------------------+--------------------+--------------------+----------+\n",
      "|label|            features|       rawPrediction|         probability|prediction|\n",
      "+-----+--------------------+--------------------+--------------------+----------+\n",
      "|  0.0|(692,[127,128,129...|[20.3777627514872...|[0.99999999858729...|       0.0|\n",
      "|  1.0|(692,[158,159,160...|[-21.114014198868...|[6.76550380000472...|       1.0|\n",
      "|  1.0|(692,[124,125,126...|[-23.743613234676...|[4.87842678716177...|       1.0|\n",
      "|  1.0|(692,[152,153,154...|[-19.192574012720...|[4.62137287298144...|       1.0|\n",
      "|  1.0|(692,[151,152,153...|[-20.125398874699...|[1.81823629113068...|       1.0|\n",
      "|  0.0|(692,[129,130,131...|[20.4890549504196...|[0.99999999873608...|       0.0|\n",
      "|  1.0|(692,[158,159,160...|[-21.082940212814...|[6.97903542823766...|       1.0|\n",
      "|  1.0|(692,[99,100,101,...|[-19.622713503550...|[3.00582577446132...|       1.0|\n",
      "|  0.0|(692,[154,155,156...|[21.1594863606582...|[0.99999999935352...|       0.0|\n",
      "|  0.0|(692,[127,128,129...|[28.1036706837287...|[0.99999999999937...|       0.0|\n",
      "|  1.0|(692,[154,155,156...|[-21.054076780106...|[7.18340962960324...|       1.0|\n",
      "|  0.0|(692,[153,154,155...|[26.9648490510184...|[0.99999999999805...|       0.0|\n",
      "|  0.0|(692,[151,152,153...|[32.7855654161400...|[0.99999999999999...|       0.0|\n",
      "|  1.0|(692,[129,130,131...|[-20.331839179667...|[1.47908944089721...|       1.0|\n",
      "|  0.0|(692,[154,155,156...|[21.7830579106564...|[0.99999999965347...|       0.0|\n",
      "|  1.0|(692,[150,151,152...|[-20.640562103728...|[1.08621994880353...|       1.0|\n",
      "|  0.0|(692,[124,125,126...|[22.6400775503731...|[0.99999999985292...|       0.0|\n",
      "|  0.0|(692,[152,153,154...|[38.0712919910909...|           [1.0,0.0]|       0.0|\n",
      "|  1.0|(692,[97,98,99,12...|[-19.830803265627...|[2.44113371545874...|       1.0|\n",
      "|  1.0|(692,[124,125,126...|[-21.016054806036...|[7.46179590484091...|       1.0|\n",
      "+-----+--------------------+--------------------+--------------------+----------+\n",
      "only showing top 20 rows\n",
      "\n"
     ]
    }
   ],
   "source": [
    "log_summery.predictions.show()"
   ]
  },
  {
   "cell_type": "code",
   "execution_count": 11,
   "id": "4bdaccf5-fe1b-40bf-9854-edb9ad7d4978",
   "metadata": {},
   "outputs": [],
   "source": [
    "lr_train, lt_test = my_data.randomSplit([0.7,0.3])"
   ]
  },
  {
   "cell_type": "code",
   "execution_count": 12,
   "id": "4ae2d76d-85e4-40a1-aa55-5c7a6a59facb",
   "metadata": {},
   "outputs": [],
   "source": [
    "final_model = LogisticRegression()"
   ]
  },
  {
   "cell_type": "code",
   "execution_count": 13,
   "id": "61611dc0-ff3d-4d31-96ec-a2c4ad047100",
   "metadata": {},
   "outputs": [],
   "source": [
    "fit_final = final_model.fit(lr_train)"
   ]
  },
  {
   "cell_type": "code",
   "execution_count": 15,
   "id": "e65a7952-373a-4050-90fd-c9d81c5ebb54",
   "metadata": {},
   "outputs": [],
   "source": [
    "predictions_and_labels = fit_final.evaluate(lt_test)"
   ]
  },
  {
   "cell_type": "code",
   "execution_count": 16,
   "id": "c890b88b-3db0-4146-88c0-cd5764ca98a8",
   "metadata": {},
   "outputs": [
    {
     "name": "stdout",
     "output_type": "stream",
     "text": [
      "+-----+--------------------+--------------------+--------------------+----------+\n",
      "|label|            features|       rawPrediction|         probability|prediction|\n",
      "+-----+--------------------+--------------------+--------------------+----------+\n",
      "|  0.0|(692,[98,99,100,1...|[21.0033057009404...|[0.99999999924424...|       0.0|\n",
      "|  0.0|(692,[100,101,102...|[0.64174134680220...|[0.65514698828332...|       0.0|\n",
      "|  0.0|(692,[122,123,124...|[19.8677151674511...|[0.99999999764733...|       0.0|\n",
      "|  0.0|(692,[122,123,148...|[6.92599766687942...|[0.99901904022969...|       0.0|\n",
      "|  0.0|(692,[124,125,126...|[14.1272638492743...|[0.99999926783839...|       0.0|\n",
      "|  0.0|(692,[124,125,126...|[22.0312786653387...|[0.99999999972964...|       0.0|\n",
      "|  0.0|(692,[126,127,128...|[31.6736506348764...|[0.99999999999998...|       0.0|\n",
      "|  0.0|(692,[126,127,128...|[26.0223890971357...|[0.99999999999500...|       0.0|\n",
      "|  0.0|(692,[126,127,128...|[27.8786228065091...|[0.99999999999921...|       0.0|\n",
      "|  0.0|(692,[126,127,128...|[25.2083822587582...|[0.99999999998872...|       0.0|\n",
      "|  0.0|(692,[127,128,129...|[23.1991644432123...|[0.99999999991591...|       0.0|\n",
      "|  0.0|(692,[152,153,154...|[10.3274773861760...|[0.99996727954391...|       0.0|\n",
      "|  0.0|(692,[153,154,155...|[30.7222783308016...|[0.99999999999995...|       0.0|\n",
      "|  0.0|(692,[153,154,155...|[2.46269398800048...|[0.92148479583909...|       0.0|\n",
      "|  0.0|(692,[155,156,180...|[34.1570998241941...|[0.99999999999999...|       0.0|\n",
      "|  0.0|(692,[234,235,237...|[0.11546694492273...|[0.52883470650973...|       0.0|\n",
      "|  1.0|(692,[123,124,125...|[-20.207915777464...|[1.67422447457817...|       1.0|\n",
      "|  1.0|(692,[124,125,126...|[-21.436236485391...|[4.90185862322487...|       1.0|\n",
      "|  1.0|(692,[124,125,126...|[-23.068472315516...|[9.58274137710804...|       1.0|\n",
      "|  1.0|(692,[126,127,128...|[-23.212953317601...|[8.29358815859641...|       1.0|\n",
      "+-----+--------------------+--------------------+--------------------+----------+\n",
      "only showing top 20 rows\n",
      "\n"
     ]
    }
   ],
   "source": [
    "predictions_and_labels.predictions.show()"
   ]
  },
  {
   "cell_type": "code",
   "execution_count": 17,
   "id": "ceb747c5-e4b5-4210-9bef-df319300d2ad",
   "metadata": {},
   "outputs": [],
   "source": [
    "from pyspark.ml.evaluation import BinaryClassificationEvaluator, MulticlassClassificationEvaluator"
   ]
  },
  {
   "cell_type": "code",
   "execution_count": 18,
   "id": "d48085c7-2206-4d6f-a842-873824c3e396",
   "metadata": {},
   "outputs": [],
   "source": [
    "my_eval = BinaryClassificationEvaluator()"
   ]
  },
  {
   "cell_type": "code",
   "execution_count": 19,
   "id": "aa8234bd-19b1-4e5b-96fc-1876988a7fe8",
   "metadata": {},
   "outputs": [],
   "source": [
    "my_final_roc = my_eval.evaluate(predictions_and_labels.predictions)"
   ]
  },
  {
   "cell_type": "code",
   "execution_count": 20,
   "id": "4819de28-8379-426a-bed6-ab4bebc97587",
   "metadata": {},
   "outputs": [
    {
     "data": {
      "text/plain": [
       "1.0"
      ]
     },
     "execution_count": 20,
     "metadata": {},
     "output_type": "execute_result"
    }
   ],
   "source": [
    "my_final_roc"
   ]
  },
  {
   "cell_type": "code",
   "execution_count": null,
   "id": "e76f020c-af38-4712-b0b3-e11f7cdc5777",
   "metadata": {},
   "outputs": [],
   "source": []
  }
 ],
 "metadata": {
  "kernelspec": {
   "display_name": "Python 3 (ipykernel)",
   "language": "python",
   "name": "python3"
  },
  "language_info": {
   "codemirror_mode": {
    "name": "ipython",
    "version": 3
   },
   "file_extension": ".py",
   "mimetype": "text/x-python",
   "name": "python",
   "nbconvert_exporter": "python",
   "pygments_lexer": "ipython3",
   "version": "3.8.18"
  }
 },
 "nbformat": 4,
 "nbformat_minor": 5
}
